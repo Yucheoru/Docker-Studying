{
 "cells": [
  {
   "cell_type": "markdown",
   "id": "5338aae0-db6b-4708-b5e9-6f1bf92bc94d",
   "metadata": {},
   "source": [
    "# Docker Experiment\n",
    "\n",
    "## Fundamental command of Docker"
   ]
  },
  {
   "cell_type": "markdown",
   "id": "be679a6b-bbf6-4bd0-aa5d-f7dc066b4866",
   "metadata": {},
   "source": [
    "- docker [target] [action] [option]\n",
    "\n",
    "    → [target] : container(can skip), image, volume, network .etc\n",
    "\n",
    "    → [action] : ls, inspect, start, run .etc"
   ]
  },
  {
   "cell_type": "markdown",
   "id": "545eed2c-c9b4-4411-b7ab-39cafe2da434",
   "metadata": {},
   "source": [
    " - docker (container) create : create container but don't start it automatically\n",
    "    → option : --name (ex : docker create --name [name])\n",
    " \n",
    " - docker start : start container that is already created\n",
    " - docker stop : stop activated container\n",
    "\n",
    " -  docker run : create & run\n",
    "\n",
    " -  docker ps(= docker container ls) : check the list of activated container\n",
    " -  docker logs : can output STDIN/STDOUT/STDERR of the container's PID=1 process\n",
    "\n",
    " -  docker rm : remove container\n",
    " -  docker rmi : remove image\n",
    " -  docker container prune : remove all of exited containers"
   ]
  },
  {
   "cell_type": "markdown",
   "id": "7f05765d-d8a1-442c-ae6a-da233400ca69",
   "metadata": {},
   "source": [
    "## Docker Experiment using node.js\n",
    "\n",
    "1. initialize the project (create 'package.json' file)\n",
    "2. install express server"
   ]
  },
  {
   "cell_type": "raw",
   "id": "3e220ecf-cf55-429d-b819-fe08313dc78d",
   "metadata": {},
   "source": [
    "$ npm init -y\n",
    "$ npm i express"
   ]
  },
  {
   "cell_type": "markdown",
   "id": "17f92f13-7758-4059-a179-badae296f811",
   "metadata": {},
   "source": [
    "3. create \"index.js\" file"
   ]
  },
  {
   "cell_type": "raw",
   "id": "e4fa1023-3650-4f54-aa6e-f36b29b4cd27",
   "metadata": {},
   "source": [
    "# contents of index.js\n",
    "\n",
    "const express = require('express');\n",
    "\n",
    "const app = express();\n",
    "\n",
    "app.get('/', (req, res) => {\n",
    "    res.send('🐳 Dream Coding in Docker! 🐳');\n",
    "});\n",
    "\n",
    "app.listen(8080, () => console.log('Server is running'));"
   ]
  },
  {
   "cell_type": "markdown",
   "id": "835d415a-07dd-46ca-902d-c290de30bb39",
   "metadata": {},
   "source": [
    "4. create dockerfile"
   ]
  },
  {
   "cell_type": "raw",
   "id": "7a430697-1261-495b-96ba-a7897ef8e6f6",
   "metadata": {},
   "source": [
    "# contents of dickerfile\n",
    "\n",
    "FROM node:16-alpine\n",
    "\n",
    "WORKDIR /app\n",
    "\n",
    "COPY package.json package-lock.json ./\n",
    "\n",
    "RUN npm ci\n",
    "\n",
    "COPY index.js .\n",
    "\n",
    "ENTRYPOINT [ \"node\", \"index.js\" ]"
   ]
  },
  {
   "cell_type": "markdown",
   "id": "4b6d0c3e-a438-4c01-a0e5-fa5ec040f85e",
   "metadata": {},
   "source": [
    "5. build docker image\n",
    "    - docker build: command to build Docker image\n",
    "    - -f Dockerfile: designate Dockerfile's path\n",
    "    - -t <image name> : designate name of image to create\n",
    "    - .: use current irectory as build context\n",
    "  \n",
    "6. run docker container\n",
    "    - docker run: command to run and create new container\n",
    "    - -d: run container on detached mode(background)\n",
    "    - -p 8080:8080: bind host's 8080 port to container's 8080 port\n",
    "    - fun-docker: create container by using docker image that was built before"
   ]
  },
  {
   "cell_type": "raw",
   "id": "0cb180ad-f6bb-4158-8664-47e102cc0338",
   "metadata": {},
   "source": [
    "$ docker build -f Dockerfile -t fun-docker .\n",
    "$ docker run -d -p 8080:8080 fun-docker"
   ]
  },
  {
   "cell_type": "raw",
   "id": "b59c2c39-8623-48ce-af78-9925006d9d0a",
   "metadata": {},
   "source": [
    "$ docker image\n",
    "$ docker ps\n",
    "$ docker logs <CONTAINER ID>"
   ]
  }
 ],
 "metadata": {
  "kernelspec": {
   "display_name": "base",
   "language": "python",
   "name": "base"
  },
  "language_info": {
   "codemirror_mode": {
    "name": "ipython",
    "version": 3
   },
   "file_extension": ".py",
   "mimetype": "text/x-python",
   "name": "python",
   "nbconvert_exporter": "python",
   "pygments_lexer": "ipython3",
   "version": "3.11.5"
  }
 },
 "nbformat": 4,
 "nbformat_minor": 5
}
