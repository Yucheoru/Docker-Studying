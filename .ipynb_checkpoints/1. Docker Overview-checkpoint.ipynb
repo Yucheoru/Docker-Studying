{
 "cells": [
  {
   "cell_type": "markdown",
   "id": "613b80ee-2942-4fd1-9ade-e2c513f34ac3",
   "metadata": {},
   "source": [
    "# Docker\n",
    "\n",
    "## What is Docker?\n",
    "\n",
    "Docker is the open source project to do works about placing linux's application programs in the software's container automatically. \n",
    "\n",
    "## What is Container?\n",
    "\n",
    "Container is a small software unit that contains applications, system tools, and dependencies and distributes to other servers or computers.\n",
    "\n",
    "Container has something in common with VM(Virtual Machine).\n",
    "However, container is lighter then VM since VM has its own heavy OS to run an application while container can run an application without OS by using container engine(There is Docker engine as a representative).\n",
    "\n",
    "## Why many people use Docker?\n",
    "\n",
    "Think about why Docker is an important tool for the developers.\n",
    "When the developer distributes an source file, errors can occur since the development program on the developer's computer environment is different with server's one. \n",
    "So, to solve this problem, Docker can be used.\n",
    "Since the Docker container includes not only applications, but also all resources necessary for the application, it is a packaging tool that can be deployed to run on any PC and solves hassles such as settings. "
   ]
  },
  {
   "cell_type": "markdown",
   "id": "7ed3d3ec-3546-4c03-9a41-9b14ddd16ae1",
   "metadata": {},
   "source": [
    "# Building Containers\n",
    "\n",
    "To build containers, we have to make Dockerfile at first, and then make image.\n",
    "\n",
    "## Dockerfile\n",
    "\n",
    "Dockerfile includes these.\n",
    "\n",
    "1. Copy files\n",
    "2. Install dependencies\n",
    "3. Set environment variables\n",
    "4. Run setup scripts\n",
    "\n",
    "## Image\n",
    "\n",
    "Image is like a snapshot of running application.\n",
    "So, Image can be made by Dockerfile.\n",
    "And Image is an immutable state that cannot be changed."
   ]
  },
  {
   "cell_type": "markdown",
   "id": "6f4981e9-bab9-41bf-84aa-f0fd4a1a6618",
   "metadata": {},
   "source": [
    "# Shipping Containers\n",
    "\n",
    "This chapter handles with steps of shipping containers.\n",
    "1. create an image on a local machine\n",
    "2. 'push' the image made before to the container registry like Git hub.\n",
    "3. 'pull' the image to the required servers or other developer's pc so that it can be run as it is. \n",
    "To run this image normally, the engine like Docker is used.\n",
    "\n",
    "The container reigstry we can share divide with public and private.\n",
    "Public like Git hub packages or Docker hub is used usually, while private like AWS, Google cloud is used by companies which regard security as important."
   ]
  }
 ],
 "metadata": {
  "kernelspec": {
   "display_name": "Python 3 (ipykernel)",
   "language": "python",
   "name": "python3"
  },
  "language_info": {
   "codemirror_mode": {
    "name": "ipython",
    "version": 3
   },
   "file_extension": ".py",
   "mimetype": "text/x-python",
   "name": "python",
   "nbconvert_exporter": "python",
   "pygments_lexer": "ipython3",
   "version": "3.11.5"
  }
 },
 "nbformat": 4,
 "nbformat_minor": 5
}
