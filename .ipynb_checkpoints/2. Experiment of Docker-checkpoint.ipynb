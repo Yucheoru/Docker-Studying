{
 "cells": [
  {
   "cell_type": "code",
   "execution_count": null,
   "id": "8c1083f2-179a-4efb-a8e3-39d13643343c",
   "metadata": {},
   "outputs": [],
   "source": [
    "$ npm init -y\n",
    "$ npm i express"
   ]
  },
  {
   "cell_type": "code",
   "execution_count": null,
   "id": "2fb28557-c058-4682-8629-55101c13b5f6",
   "metadata": {},
   "outputs": [],
   "source": [
    "$ docker image\n",
    "$ docker ps\n",
    "$ docker logs <CONTAINER ID>"
   ]
  },
  {
   "cell_type": "code",
   "execution_count": null,
   "id": "5f256d5e-2938-4974-b5fc-383db4849340",
   "metadata": {},
   "outputs": [],
   "source": [
    "const express = require('express');\n",
    "\n",
    "const app = express();\n",
    "\n",
    "app.get('/', (req, res) => {\n",
    "    res.send('🐳 Dream Coding in Docker! 🐳');\n",
    "});\n",
    "\n",
    "app.listen(8080, () => console.log('Server is running'));"
   ]
  },
  {
   "cell_type": "code",
   "execution_count": null,
   "id": "8498bb68-56f6-4bfc-8b11-c71cad886336",
   "metadata": {},
   "outputs": [],
   "source": [
    "FROM node:16-alpine\n",
    "\n",
    "WORKDIR /app\n",
    "\n",
    "COPY package.json package-lock.json ./\n",
    "\n",
    "RUN npm ci\n",
    "\n",
    "COPY index.js .\n",
    "\n",
    "ENTRYPOINT [ \"node\", \"index.js\" ]"
   ]
  },
  {
   "cell_type": "code",
   "execution_count": null,
   "id": "7e10fdec-6051-4c17-82bf-642e6b6bafa6",
   "metadata": {},
   "outputs": [],
   "source": [
    "$ docker build -f Dockerfile -t fun-docker .\n",
    "$ docker run -d -p 8080:8080 fun-docker"
   ]
  }
 ],
 "metadata": {
  "kernelspec": {
   "display_name": "base",
   "language": "python",
   "name": "base"
  },
  "language_info": {
   "codemirror_mode": {
    "name": "ipython",
    "version": 3
   },
   "file_extension": ".py",
   "mimetype": "text/x-python",
   "name": "python",
   "nbconvert_exporter": "python",
   "pygments_lexer": "ipython3",
   "version": "3.11.5"
  }
 },
 "nbformat": 4,
 "nbformat_minor": 5
}
