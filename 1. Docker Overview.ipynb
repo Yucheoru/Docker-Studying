{
 "cells": [
  {
   "cell_type": "markdown",
   "id": "613b80ee-2942-4fd1-9ade-e2c513f34ac3",
   "metadata": {},
   "source": [
    "# Docker\n",
    "\n",
    "## What is Docker?\n",
    "\n",
    "Docker is the open source project to do works about placing linux's application programs in the software's container automatically. \n",
    "\n",
    "## What is Container?\n",
    "\n",
    "Container is a small software unit that contains applications, system tools, and dependencies and distributes to other servers or computers.\n",
    "\n",
    "Container has something in common with VM(Virtual Machine).\n",
    "However, container is lighter then VM since VM has its own heavy OS to run an application while container can run an application without OS by using container engine(There is Docker engine as a representative).\n",
    "\n",
    "## Why many people use Docker?\n",
    "\n",
    "Think about why Docker is an important tool for the developers.\n",
    "When the developer distributes an source file, errors can occur since the development program on the developer's computer environment is different with server's one. \n",
    "So, to solve this problem, Docker can be used.\n",
    "Since the Docker container includes not only applications, but also all resources necessary for the application, it is a packaging tool that can be deployed to run on any PC and solves hassles such as settings. "
   ]
  },
  {
   "cell_type": "markdown",
   "id": "7ed3d3ec-3546-4c03-9a41-9b14ddd16ae1",
   "metadata": {},
   "source": [
    "# Building Containers\n",
    "\n",
    "To build containers, we have to make Dockerfile at first, and then make image.\n",
    "\n",
    "## Dockerfile\n",
    "\n",
    "Dockerfile includes these.\n",
    "\n",
    "1. Copy files\n",
    "2. Install dependencies\n",
    "3. Set environment variables\n",
    "4. Run setup scripts\n",
    "\n",
    "## Image\n",
    "\n",
    "Image is like a snapshot of running application.\n",
    "So, Image can be made by Dockerfile.\n",
    "And Image is an immutable state that cannot be changed."
   ]
  },
  {
   "cell_type": "markdown",
   "id": "6f4981e9-bab9-41bf-84aa-f0fd4a1a6618",
   "metadata": {},
   "source": [
    "# Shipping Containers\n",
    "\n",
    "로컬머신에서 이미지를 만들어서, 깃허브와 같은 컨테이너 레지스트리에 내가 만든 이미지르 푸쉬하고, 필요한 서버나 다른 개발자들 pc로 pull해서 내가 만든 이미지를 가지고 와서 그대로 실행할 수 있게 된다. 이 이미지를 정상적으로 실행하기 위해 도커와 같은 엔진이 이용된다.\n",
    "우리가 공유할 수 있는 컨테이너 레지스트리는 public과 private으로 나뉘는데, 일반적으로는 public을 이용하고, 회사같이 보안이 중시되는 곳은 private을 이용한다. public에는 깃허브 패키지, 도커허브 등이 있고, private은 aws, 구글 클라우드 등이 있다. "
   ]
  }
 ],
 "metadata": {
  "kernelspec": {
   "display_name": "Python 3 (ipykernel)",
   "language": "python",
   "name": "python3"
  },
  "language_info": {
   "codemirror_mode": {
    "name": "ipython",
    "version": 3
   },
   "file_extension": ".py",
   "mimetype": "text/x-python",
   "name": "python",
   "nbconvert_exporter": "python",
   "pygments_lexer": "ipython3",
   "version": "3.11.5"
  }
 },
 "nbformat": 4,
 "nbformat_minor": 5
}
